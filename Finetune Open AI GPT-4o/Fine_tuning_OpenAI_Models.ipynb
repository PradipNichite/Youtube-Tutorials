{
  "nbformat": 4,
  "nbformat_minor": 0,
  "metadata": {
    "colab": {
      "provenance": []
    },
    "kernelspec": {
      "name": "python3",
      "display_name": "Python 3"
    },
    "language_info": {
      "name": "python"
    }
  },
  "cells": [
    {
      "cell_type": "code",
      "source": [
        "from IPython.display import Image\n",
        "\n",
        "# Displaying a local image (after uploading it to Colab)\n",
        "Image(filename='/content/image.png')"
      ],
      "metadata": {
        "colab": {
          "base_uri": "https://localhost:8080/",
          "height": 615
        },
        "id": "Pu1snJmEcFMG",
        "outputId": "f545aa41-efa0-4e90-8fe0-f5109412d9ae"
      },
      "execution_count": null,
      "outputs": [
        {
          "output_type": "execute_result",
          "data": {
            "image/png": "[encoded data removed]",
            "text/plain": [
              "<IPython.core.display.Image object>"
            ]
          },
          "metadata": {},
          "execution_count": 1
        }
      ]
    },
    {
      "cell_type": "code",
      "source": [
        "!pip install openai -q"
      ],
      "metadata": {
        "id": "TV7jOxtTPe2m",
        "colab": {
          "base_uri": "https://localhost:8080/"
        },
        "outputId": "9f54e0ee-aa5f-408e-e996-1cdb97406031"
      },
      "execution_count": null,
      "outputs": [
        {
          "output_type": "stream",
          "name": "stdout",
          "text": [
            "\u001b[?25l   \u001b[90m━━━━━━━━━━━━━━━━━━━━━━━━━━━━━━━━━━━━━━━━\u001b[0m \u001b[32m0.0/386.9 kB\u001b[0m \u001b[31m?\u001b[0m eta \u001b[36m-:--:--\u001b[0m\r\u001b[2K   \u001b[90m━━━━━━━━━━━━━━━━━━━━━━━━━━━━━━━━━━━━━━━━\u001b[0m \u001b[32m386.9/386.9 kB\u001b[0m \u001b[31m12.6 MB/s\u001b[0m eta \u001b[36m0:00:00\u001b[0m\n",
            "\u001b[?25h\u001b[?25l   \u001b[90m━━━━━━━━━━━━━━━━━━━━━━━━━━━━━━━━━━━━━━━━\u001b[0m \u001b[32m0.0/76.4 kB\u001b[0m \u001b[31m?\u001b[0m eta \u001b[36m-:--:--\u001b[0m\r\u001b[2K   \u001b[90m━━━━━━━━━━━━━━━━━━━━━━━━━━━━━━━━━━━━━━━━\u001b[0m \u001b[32m76.4/76.4 kB\u001b[0m \u001b[31m6.2 MB/s\u001b[0m eta \u001b[36m0:00:00\u001b[0m\n",
            "\u001b[2K   \u001b[90m━━━━━━━━━━━━━━━━━━━━━━━━━━━━━━━━━━━━━━━━\u001b[0m \u001b[32m78.0/78.0 kB\u001b[0m \u001b[31m5.1 MB/s\u001b[0m eta \u001b[36m0:00:00\u001b[0m\n",
            "\u001b[2K   \u001b[90m━━━━━━━━━━━━━━━━━━━━━━━━━━━━━━━━━━━━━━━━\u001b[0m \u001b[32m325.2/325.2 kB\u001b[0m \u001b[31m20.1 MB/s\u001b[0m eta \u001b[36m0:00:00\u001b[0m\n",
            "\u001b[2K   \u001b[90m━━━━━━━━━━━━━━━━━━━━━━━━━━━━━━━━━━━━━━━━\u001b[0m \u001b[32m58.3/58.3 kB\u001b[0m \u001b[31m4.3 MB/s\u001b[0m eta \u001b[36m0:00:00\u001b[0m\n",
            "\u001b[?25h"
          ]
        }
      ]
    },
    {
      "cell_type": "code",
      "source": [
        "# prepare_data.py\n",
        "import csv\n",
        "import json\n",
        "\n",
        "def convert_csv_to_training_format(input_csv, output_file):\n",
        "    system_message = {\n",
        "        \"role\": \"system\",\n",
        "        \"content\": \"Extract Details from medical report\"\n",
        "    }\n",
        "\n",
        "    with open(input_csv, 'r', encoding='utf-8') as csvfile, \\\n",
        "         open(output_file, 'w', encoding='utf-8') as outfile:\n",
        "        reader = csv.reader(csvfile)\n",
        "        next(reader)  # Skip header\n",
        "\n",
        "        for row in reader:\n",
        "            medical_report = row[0]\n",
        "            extracted_json = row[1]\n",
        "\n",
        "            training_example = {\n",
        "                \"messages\": [\n",
        "                    system_message,\n",
        "                    {\"role\": \"user\", \"content\": medical_report},\n",
        "                    {\"role\": \"assistant\", \"content\": extracted_json}\n",
        "                ]\n",
        "            }\n",
        "            outfile.write(json.dumps(training_example) + '\\n')\n",
        "\n",
        "\n",
        "convert_csv_to_training_format(\"medical-records.csv\", \"training_data.jsonl\")\n",
        "convert_csv_to_training_format(\"validation-medical-records.csv\", \"validation_data.jsonl\")\n",
        "print(\"Training data prepared successfully!\")"
      ],
      "metadata": {
        "colab": {
          "base_uri": "https://localhost:8080/"
        },
        "id": "Xs3h_WKGN4Mm",
        "outputId": "7fc5cb47-afee-4298-a6cd-814ba904f1d8"
      },
      "execution_count": 2,
      "outputs": [
        {
          "output_type": "stream",
          "name": "stdout",
          "text": [
            "Training data prepared successfully!\n"
          ]
        }
      ]
    },
    {
      "cell_type": "code",
      "source": [
        "open_ai_key = \"\""
      ],
      "metadata": {
        "id": "SVSemfmZPDMR"
      },
      "execution_count": null,
      "outputs": []
    },
    {
      "cell_type": "code",
      "source": [
        "import os\n",
        "from openai import OpenAI\n",
        "from time import sleep\n",
        "\n",
        "# Initialize OpenAI client\n",
        "client = OpenAI(api_key = open_ai_key)"
      ],
      "metadata": {
        "id": "pkTFpsj8fLU-"
      },
      "execution_count": null,
      "outputs": []
    },
    {
      "cell_type": "code",
      "source": [
        "def upload_training_file(file_path):\n",
        "    \"\"\"Upload training file to OpenAI\"\"\"\n",
        "    with open(file_path, \"rb\") as file:\n",
        "        response = client.files.create(\n",
        "            file=file,\n",
        "            purpose=\"fine-tune\"\n",
        "        )\n",
        "        return response.id"
      ],
      "metadata": {
        "id": "lcl7JlPHjr9m"
      },
      "execution_count": null,
      "outputs": []
    },
    {
      "cell_type": "code",
      "source": [
        "training_file_id = upload_training_file(\"training_data.jsonl\")\n",
        "validation_file_id = upload_training_file(\"validation_data.jsonl\")\n",
        "training_file_id,validation_file_id"
      ],
      "metadata": {
        "colab": {
          "base_uri": "https://localhost:8080/"
        },
        "id": "3tCLZdQpfYo_",
        "outputId": "07594db6-8503-4c48-86ba-964284556157"
      },
      "execution_count": null,
      "outputs": [
        {
          "output_type": "execute_result",
          "data": {
            "text/plain": [
              "('file-ujcstKb2dnlqRfcUIoXZ07Xi', 'file-8TA40FNpb21BdnBMLo7dColE')"
            ]
          },
          "metadata": {},
          "execution_count": 7
        }
      ]
    },
    {
      "cell_type": "code",
      "source": [
        "def create_fine_tuning_job(training_file_id, validation_file_id=None, model=\"gpt-4o-mini-2024-07-18\"):\n",
        "    \"\"\"Create a fine-tuning job\"\"\"\n",
        "    response = client.fine_tuning.jobs.create(\n",
        "        training_file=training_file_id,\n",
        "        validation_file=validation_file_id,\n",
        "        model=model\n",
        "    )\n",
        "    return response.id"
      ],
      "metadata": {
        "id": "ZtLrrpRqfQ57"
      },
      "execution_count": null,
      "outputs": []
    },
    {
      "cell_type": "code",
      "source": [
        "model=\"gpt-4o-mini-2024-07-18\"\n",
        "job_id = create_fine_tuning_job(training_file_id, validation_file_id, model)\n",
        "job_id"
      ],
      "metadata": {
        "colab": {
          "base_uri": "https://localhost:8080/",
          "height": 35
        },
        "id": "BnB5j2-njzTw",
        "outputId": "982301db-1817-4c5f-cab6-503656237bab"
      },
      "execution_count": null,
      "outputs": [
        {
          "output_type": "execute_result",
          "data": {
            "text/plain": [
              "'ftjob-ZwKI5ayinP749wFEUmjHCna4'"
            ],
            "application/vnd.google.colaboratory.intrinsic+json": {
              "type": "string"
            }
          },
          "metadata": {},
          "execution_count": 9
        }
      ]
    },
    {
      "cell_type": "code",
      "source": [
        "def monitor_job(job_id):\n",
        "    \"\"\"Monitor fine-tuning job progress\"\"\"\n",
        "    while True:\n",
        "        job = client.fine_tuning.jobs.retrieve(job_id)\n",
        "        print(f\"Status: {job.status}\")\n",
        "\n",
        "        if job.status in [\"succeeded\", \"failed\"]:\n",
        "            return job\n",
        "\n",
        "        # List latest events\n",
        "        events = client.fine_tuning.jobs.list_events(\n",
        "            fine_tuning_job_id=job_id,\n",
        "            limit=5\n",
        "        )\n",
        "        for event in events.data:\n",
        "            print(f\"Event: {event.message}\")\n",
        "\n",
        "        sleep(30)  # Check every 30 seconds"
      ],
      "metadata": {
        "id": "DNZo1gI2fTxD"
      },
      "execution_count": null,
      "outputs": []
    },
    {
      "cell_type": "code",
      "source": [
        "job =  monitor_job(job_id)\n",
        "if job.status == \"succeeded\":\n",
        "  fine_tuned_model = job.fine_tuned_model\n",
        "  print(f\"Fine-tuned model ID: {fine_tuned_model}\")\n",
        "else:\n",
        "  print(\"Fine-tuning failed.\")"
      ],
      "metadata": {
        "colab": {
          "base_uri": "https://localhost:8080/"
        },
        "id": "TC2KMHkehf6u",
        "outputId": "2db9fa54-5d34-49fe-b25d-7a99b668c244"
      },
      "execution_count": null,
      "outputs": [
        {
          "output_type": "stream",
          "name": "stdout",
          "text": [
            "Status: running\n",
            "Event: Fine-tuning job started\n",
            "Event: Files validated, moving job to queued state\n",
            "Event: Validating training file: file-ujcstKb2dnlqRfcUIoXZ07Xi and validation file: file-8TA40FNpb21BdnBMLo7dColE\n",
            "Event: Created fine-tuning job: ftjob-ZwKI5ayinP749wFEUmjHCna4\n",
            "Status: running\n",
            "Event: Fine-tuning job started\n",
            "Event: Files validated, moving job to queued state\n",
            "Event: Validating training file: file-ujcstKb2dnlqRfcUIoXZ07Xi and validation file: file-8TA40FNpb21BdnBMLo7dColE\n",
            "Event: Created fine-tuning job: ftjob-ZwKI5ayinP749wFEUmjHCna4\n",
            "Status: running\n",
            "Event: Fine-tuning job started\n",
            "Event: Files validated, moving job to queued state\n",
            "Event: Validating training file: file-ujcstKb2dnlqRfcUIoXZ07Xi and validation file: file-8TA40FNpb21BdnBMLo7dColE\n",
            "Event: Created fine-tuning job: ftjob-ZwKI5ayinP749wFEUmjHCna4\n",
            "Status: running\n",
            "Event: Fine-tuning job started\n",
            "Event: Files validated, moving job to queued state\n",
            "Event: Validating training file: file-ujcstKb2dnlqRfcUIoXZ07Xi and validation file: file-8TA40FNpb21BdnBMLo7dColE\n",
            "Event: Created fine-tuning job: ftjob-ZwKI5ayinP749wFEUmjHCna4\n",
            "Status: running\n",
            "Event: Step 14/100: training loss=0.11, validation loss=0.08\n",
            "Event: Step 13/100: training loss=0.19, validation loss=0.12\n",
            "Event: Step 12/100: training loss=0.30, validation loss=0.17\n",
            "Event: Step 11/100: training loss=0.42, validation loss=0.32\n",
            "Event: Step 10/100: training loss=0.51, validation loss=0.48\n",
            "Status: running\n",
            "Event: Step 39/100: training loss=0.03, validation loss=0.01\n",
            "Event: Step 38/100: training loss=0.00, validation loss=0.10\n",
            "Event: Step 37/100: training loss=0.05, validation loss=0.26\n",
            "Event: Step 36/100: training loss=0.00, validation loss=0.00\n",
            "Event: Step 35/100: training loss=0.12, validation loss=0.04\n",
            "Status: running\n",
            "Event: Step 51/100: training loss=0.08, validation loss=0.00\n",
            "Event: Step 50/100: training loss=0.00, validation loss=0.01\n",
            "Event: Step 49/100: training loss=0.00, validation loss=0.20\n",
            "Event: Step 48/100: training loss=0.00, validation loss=0.16\n",
            "Event: Step 47/100: training loss=0.00, validation loss=0.23\n",
            "Status: running\n",
            "Event: Step 67/100: training loss=0.00, validation loss=0.25\n",
            "Event: Step 66/100: training loss=0.00, validation loss=0.00\n",
            "Event: Step 65/100: training loss=0.00, validation loss=0.02\n",
            "Event: Step 64/100: training loss=0.00, validation loss=0.00\n",
            "Event: Step 63/100: training loss=0.00, validation loss=0.00\n",
            "Status: running\n",
            "Event: Step 79/100: training loss=0.00, validation loss=0.32\n",
            "Event: Step 78/100: training loss=0.00, validation loss=0.18\n",
            "Event: Step 77/100: training loss=0.00, validation loss=0.24\n",
            "Event: Step 76/100: training loss=0.00, validation loss=0.00\n",
            "Event: Step 75/100: training loss=0.00, validation loss=0.01\n",
            "Status: running\n",
            "Event: Step 98/100: training loss=0.00, validation loss=0.19\n",
            "Event: Step 97/100: training loss=0.00, validation loss=0.23\n",
            "Event: Step 96/100: training loss=0.00, validation loss=0.00\n",
            "Event: Step 95/100: training loss=0.00, validation loss=0.01\n",
            "Event: Step 94/100: training loss=0.00, validation loss=0.00\n",
            "Status: succeeded\n",
            "Fine-tuned model ID: ft:gpt-4o-mini-2024-07-18:futuresmart-ai::ALE86bHG\n"
          ]
        }
      ]
    },
    {
      "cell_type": "code",
      "source": [
        "def test_model(model_id, test_input):\n",
        "    \"\"\"Test the fine-tuned model\"\"\"\n",
        "    completion = client.chat.completions.create(\n",
        "        model=model_id,\n",
        "        messages=[\n",
        "            {\n",
        "                \"role\": \"system\",\n",
        "                \"content\": \"\"\n",
        "            },\n",
        "            {\"role\": \"user\", \"content\": test_input}\n",
        "        ]\n",
        "    )\n",
        "    return completion.choices[0].message\n"
      ],
      "metadata": {
        "id": "zD9AKtStVQlc"
      },
      "execution_count": null,
      "outputs": []
    },
    {
      "cell_type": "code",
      "source": [
        "result = test_model(fine_tuned_model, \"Marcus Wong, a 19-year-old male, presents with severe acne on face and upper back present for 1 year. Multiple inflammatory papules and nodules noted on examination. Previous trials of over-the-counter treatments ineffective. Started on Isotretinoin 40mg daily with monthly liver function monitoring.\")\n",
        "print(result)"
      ],
      "metadata": {
        "colab": {
          "base_uri": "https://localhost:8080/"
        },
        "id": "KJwaA8g9fsTm",
        "outputId": "d73a0f4c-3edd-4a52-f05c-aec88738b547"
      },
      "execution_count": null,
      "outputs": [
        {
          "output_type": "stream",
          "name": "stdout",
          "text": [
            "ChatCompletionMessage(content='{\"patient name\": \"Marcus Wong\", \"age\": 19, \"diagnosis\": \"severe acne\", \"prescribed medication\": \"Isotretinoin\"}', refusal=None, role='assistant', audio=None, function_call=None, tool_calls=None)\n"
          ]
        }
      ]
    },
    {
      "cell_type": "code",
      "source": [
        "result.content"
      ],
      "metadata": {
        "colab": {
          "base_uri": "https://localhost:8080/",
          "height": 52
        },
        "id": "zoFGAwFkh0Ix",
        "outputId": "e18e4f0d-7ffb-4a5f-c0d4-ac2b2f50ad84"
      },
      "execution_count": null,
      "outputs": [
        {
          "output_type": "execute_result",
          "data": {
            "text/plain": [
              "'{\"patient name\": \"Marcus Wong\", \"age\": 19, \"diagnosis\": \"severe acne\", \"prescribed medication\": \"Isotretinoin\"}'"
            ],
            "application/vnd.google.colaboratory.intrinsic+json": {
              "type": "string"
            }
          },
          "metadata": {},
          "execution_count": 18
        }
      ]
    },
    {
      "cell_type": "code",
      "source": [
        "import json\n",
        "json.loads(result.content)"
      ],
      "metadata": {
        "colab": {
          "base_uri": "https://localhost:8080/"
        },
        "id": "-xU6nXmth9Ym",
        "outputId": "ce434eac-21bc-46dc-8d70-c32502913a53"
      },
      "execution_count": null,
      "outputs": [
        {
          "output_type": "execute_result",
          "data": {
            "text/plain": [
              "{'patient name': 'Marcus Wong',\n",
              " 'age': 19,\n",
              " 'diagnosis': 'severe acne',\n",
              " 'prescribed medication': 'Isotretinoin'}"
            ]
          },
          "metadata": {},
          "execution_count": 15
        }
      ]
    },
    {
      "cell_type": "code",
      "source": [],
      "metadata": {
        "id": "n5pFtjDDiJx_"
      },
      "execution_count": null,
      "outputs": []
    }
  ]
}